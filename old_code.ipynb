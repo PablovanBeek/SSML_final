{
 "cells": [
  {
   "cell_type": "markdown",
   "metadata": {},
   "source": [
    "# SSML group assignment"
   ]
  },
  {
   "cell_type": "markdown",
   "metadata": {},
   "source": [
    "### Packages"
   ]
  },
  {
   "cell_type": "code",
   "execution_count": 1,
   "metadata": {},
   "outputs": [
    {
     "name": "stderr",
     "output_type": "stream",
     "text": [
      "C:\\Users\\jelte\\AppData\\Local\\Temp\\ipykernel_10852\\876202666.py:7: FutureWarning: The `utils.config` function is deprecated and will be removed in the v2.0.0 release. Instead, use the `settings` module directly to configure a global setting's value. For example, `ox.settings.log_console=True`.\n",
      "  ox.config(use_cache=True, log_console=True)\n"
     ]
    }
   ],
   "source": [
    "import numpy as np\n",
    "import osmnx as ox\n",
    "import pandas as pd\n",
    "from scipy import stats\n",
    "import geopandas as gpd\n",
    "ox.config(use_cache=True, log_console=True)"
   ]
  },
  {
   "cell_type": "markdown",
   "metadata": {},
   "source": [
    "### GHS data"
   ]
  },
  {
   "cell_type": "code",
   "execution_count": 2,
   "metadata": {},
   "outputs": [],
   "source": [
    "def n_biggest_cities_europe(n:int) -> list:\n",
    "    '''\n",
    "    N is equal to the number of cities\n",
    "    The function returns a list with the N biggest cities in Europe.\n",
    "    This is based on the opendatasoft data set.\n",
    "    The function filters the cities based on TimeZone column. If it is an European timezone the city is considerd European.\n",
    "    This means that Turkish and Russian cities are often considered European.\n",
    "    '''\n",
    "\n",
    "    cities_df = pd.read_csv(\"cities.csv\", delimiter=\";\")\n",
    "\n",
    "    # Only keep the European cities\n",
    "    cities_df = cities_df[cities_df['Timezone'].str.contains('Europe')]\n",
    "\n",
    "    # Keep the N biggest cities\n",
    "    cities_df = cities_df.nlargest(n, 'Population')\n",
    "\n",
    "    cities = []\n",
    "    for index, row in cities_df.iterrows():\n",
    "        city_name_country = row['Name']\n",
    "        cities.append(city_name_country)\n",
    "\n",
    "    return cities\n",
    "\n",
    "def get_cities_ghs(df:pd.DataFrame, cities:list) -> pd.DataFrame:\n",
    "    '''\n",
    "    df is a complete dataset from GHS.\n",
    "    cities is a the list of cities that we want to filter from the GHS dataframe.\n",
    "    This function returns the filtered DataFrame from GHS based on the cities in the cities list.\n",
    "    '''\n",
    "\n",
    "    cities_list = []\n",
    "    df[\"UC_NM_MN\"] = df['UC_NM_MN'].str.lower()\n",
    "\n",
    "    for city in cities:\n",
    "        city = city.lower()\n",
    "        city_df = df[df['UC_NM_MN'] == city]\n",
    "        if len(city_df) == 0:\n",
    "            print(f\"Unable to find {city} in GHS DataFrame! We have excluded this city from further use.\")\n",
    "        else:\n",
    "            cities_list.append(city_df)\n",
    "\n",
    "    return pd.concat(cities_list, ignore_index=True)\n",
    "\n",
    "def get_cities_osmnx(df:pd.DataFrame) -> pd.DataFrame:\n",
    "    '''\n",
    "    df is the filtered dataset from GHS\n",
    "    This function returns the GHS DataFrame with 2 extra values for each row: orientation_entropy, orientation_order.\n",
    "    '''\n",
    "\n",
    "    df[\"orientation_entropy\"] = np.nan\n",
    "    df[\"orientation_order\"] = np.nan\n",
    "    entropy_bins = 36\n",
    "\n",
    "    counter = 1\n",
    "    for index, row in df.iterrows():\n",
    "        city = row['UC_NM_MN']\n",
    "        print(f\"Currently we are calculating city number {counter}, {city}\")\n",
    "        try:\n",
    "            Gu = ox.add_edge_bearings(ox.get_undirected(ox.graph_from_place(city, network_type='drive')))\n",
    "            orientation_entropy = ox.bearing.orientation_entropy(Gu)\n",
    "\n",
    "            perfect_grid = [1] * 4 + [0] * (entropy_bins - 4)\n",
    "            min_entropy = stats.entropy(perfect_grid)\n",
    "            max_entropy = np.log(entropy_bins)    \n",
    "            orientation_order = 1 - ((orientation_entropy - min_entropy) / (max_entropy - min_entropy)) ** 2\n",
    "\n",
    "            df.at[index, \"orientation_entropy\"] = orientation_entropy\n",
    "            df.at[index, \"orientation_order\"] = orientation_order\n",
    "            counter +=1\n",
    "            \n",
    "        except:\n",
    "            row[\"orientation_entropy\"] = 0\n",
    "            row[\"orientation_order\"] = 0\n",
    "            print(f\"We have failed to make the calculations for {city}\")\n",
    "\n",
    "    return df"
   ]
  },
  {
   "cell_type": "code",
   "execution_count": 3,
   "metadata": {},
   "outputs": [
    {
     "name": "stdout",
     "output_type": "stream",
     "text": [
      "Unable to find i̇zmir in GHS DataFrame! We have excluded this city from further use.\n",
      "Unable to find diyarbakır in GHS DataFrame! We have excluded this city from further use.\n",
      "Unable to find nizhniy novgorod in GHS DataFrame! We have excluded this city from further use.\n",
      "Unable to find rostov-na-donu in GHS DataFrame! We have excluded this city from further use.\n",
      "Unable to find köln in GHS DataFrame! We have excluded this city from further use.\n",
      "Unable to find eskişehir in GHS DataFrame! We have excluded this city from further use.\n",
      "Currently we are calculating city number 1, istanbul\n",
      "Currently we are calculating city number 2, moscow\n",
      "Currently we are calculating city number 3, london\n",
      "Currently we are calculating city number 4, london\n",
      "Currently we are calculating city number 5, saint petersburg\n",
      "Currently we are calculating city number 6, ankara\n"
     ]
    },
    {
     "name": "stderr",
     "output_type": "stream",
     "text": [
      "c:\\Users\\jelte\\anaconda3\\envs\\ox\\Lib\\site-packages\\osmnx\\_overpass.py:211: UserWarning: This area is 16 times your configured Overpass max query area size. It will automatically be divided up into multiple sub-queries accordingly. This may take a long time.\n",
      "  multi_poly_proj = utils_geo._consolidate_subdivide_geometry(poly_proj)\n"
     ]
    },
    {
     "name": "stdout",
     "output_type": "stream",
     "text": [
      "Currently we are calculating city number 7, berlin\n",
      "Currently we are calculating city number 8, madrid\n",
      "Currently we are calculating city number 9, bursa\n",
      "Currently we are calculating city number 10, bursa\n",
      "Currently we are calculating city number 11, kyiv\n",
      "Currently we are calculating city number 12, rome\n",
      "Currently we are calculating city number 13, paris\n",
      "Currently we are calculating city number 14, bucharest\n",
      "Currently we are calculating city number 15, hamburg\n",
      "Currently we are calculating city number 16, gaziantep\n",
      "Currently we are calculating city number 17, adana\n",
      "Currently we are calculating city number 18, minsk\n",
      "Currently we are calculating city number 19, budapest\n",
      "Currently we are calculating city number 20, warsaw\n",
      "Currently we are calculating city number 21, vienna\n",
      "Currently we are calculating city number 22, barcelona\n",
      "Currently we are calculating city number 23, barcelona\n",
      "Currently we are calculating city number 24, stockholm\n",
      "Currently we are calculating city number 25, kharkiv\n",
      "Currently we are calculating city number 26, konya\n"
     ]
    },
    {
     "name": "stderr",
     "output_type": "stream",
     "text": [
      "c:\\Users\\jelte\\anaconda3\\envs\\ox\\Lib\\site-packages\\osmnx\\_overpass.py:211: UserWarning: This area is 23 times your configured Overpass max query area size. It will automatically be divided up into multiple sub-queries accordingly. This may take a long time.\n",
      "  multi_poly_proj = utils_geo._consolidate_subdivide_geometry(poly_proj)\n"
     ]
    },
    {
     "name": "stdout",
     "output_type": "stream",
     "text": [
      "Currently we are calculating city number 27, milan\n",
      "Currently we are calculating city number 28, antalya\n"
     ]
    },
    {
     "name": "stderr",
     "output_type": "stream",
     "text": [
      "c:\\Users\\jelte\\anaconda3\\envs\\ox\\Lib\\site-packages\\osmnx\\_overpass.py:211: UserWarning: This area is 16 times your configured Overpass max query area size. It will automatically be divided up into multiple sub-queries accordingly. This may take a long time.\n",
      "  multi_poly_proj = utils_geo._consolidate_subdivide_geometry(poly_proj)\n"
     ]
    },
    {
     "name": "stdout",
     "output_type": "stream",
     "text": [
      "Currently we are calculating city number 29, belgrade\n",
      "Currently we are calculating city number 30, munich\n",
      "Currently we are calculating city number 31, kazan\n",
      "Currently we are calculating city number 32, kayseri\n",
      "Currently we are calculating city number 33, prague\n",
      "Currently we are calculating city number 34, samara\n",
      "Currently we are calculating city number 35, copenhagen\n",
      "Currently we are calculating city number 36, sofia\n",
      "Currently we are calculating city number 37, birmingham\n",
      "Currently we are calculating city number 38, birmingham\n",
      "Currently we are calculating city number 39, voronezh\n",
      "Currently we are calculating city number 40, dublin\n",
      "Currently we are calculating city number 41, brussels\n",
      "Currently we are calculating city number 42, odesa\n",
      "Currently we are calculating city number 43, volgograd\n",
      "Currently we are calculating city number 44, dnipro\n",
      "Currently we are calculating city number 45, naples\n",
      "Currently we are calculating city number 46, naples\n",
      "Currently we are calculating city number 47, donetsk\n",
      "Currently we are calculating city number 48, krasnodar\n",
      "Currently we are calculating city number 49, marseille\n"
     ]
    }
   ],
   "source": [
    "ghs_full_df = gpd.read_file(\"ghs/GHS_STAT_UCDB2015MT_GLOBE_R2019A_V1_2.gpkg\")\n",
    "cities = n_biggest_cities_europe(50)\n",
    "\n",
    "df = get_cities_ghs(ghs_full_df, cities)\n",
    "df = get_cities_osmnx(df)\n",
    "\n"
   ]
  },
  {
   "cell_type": "code",
   "execution_count": 4,
   "metadata": {},
   "outputs": [
    {
     "name": "stdout",
     "output_type": "stream",
     "text": [
      "0     3.576373\n",
      "1     3.580096\n",
      "2     3.566809\n",
      "3     3.566809\n",
      "4     3.563382\n",
      "5     3.573773\n",
      "6     3.571679\n",
      "7     3.561082\n",
      "8     3.532571\n",
      "9     3.532571\n",
      "10    3.565109\n",
      "11    3.578502\n",
      "12    3.570617\n",
      "13    3.572389\n",
      "14    3.562467\n",
      "15    3.559815\n",
      "16    3.522194\n",
      "17    3.569592\n",
      "18    3.528182\n",
      "19    3.547383\n",
      "20    3.527261\n",
      "21    3.460493\n",
      "22    3.460493\n",
      "23    3.577206\n",
      "24    3.570279\n",
      "25    3.564995\n",
      "26    3.553154\n",
      "27    3.553697\n",
      "28    3.563658\n",
      "29    3.497077\n",
      "30    3.503014\n",
      "31    3.571473\n",
      "32    3.529855\n",
      "33    3.485791\n",
      "34    2.955305\n",
      "35    3.559401\n",
      "36    3.581984\n",
      "37    3.581984\n",
      "38    3.545326\n",
      "39    3.554272\n",
      "40    3.541381\n",
      "41    3.551962\n",
      "42    3.533449\n",
      "43    3.548593\n",
      "44    3.575805\n",
      "45    3.575805\n",
      "46    3.451656\n",
      "47    3.343622\n",
      "48    3.569339\n",
      "Name: orientation_entropy, dtype: float64\n"
     ]
    }
   ],
   "source": [
    "print(df[\"orientation_entropy\"])"
   ]
  }
 ],
 "metadata": {
  "kernelspec": {
   "display_name": "Python 3",
   "language": "python",
   "name": "python3"
  },
  "language_info": {
   "codemirror_mode": {
    "name": "ipython",
    "version": 3
   },
   "file_extension": ".py",
   "mimetype": "text/x-python",
   "name": "python",
   "nbconvert_exporter": "python",
   "pygments_lexer": "ipython3",
   "version": "3.12.2"
  }
 },
 "nbformat": 4,
 "nbformat_minor": 2
}
