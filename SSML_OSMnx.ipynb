{
 "cells": [
  {
   "cell_type": "markdown",
   "metadata": {},
   "source": [
    "# SSML OSMnx"
   ]
  },
  {
   "cell_type": "markdown",
   "metadata": {},
   "source": [
    "### Packages"
   ]
  },
  {
   "cell_type": "code",
   "execution_count": null,
   "metadata": {},
   "outputs": [],
   "source": [
    "import pandas as pd\n",
    "import geopandas as gpd\n",
    "import numpy as np\n",
    "import osmnx as ox\n",
    "import pandas as pd\n",
    "ox.config(use_cache=True, log_console=True)"
   ]
  },
  {
   "cell_type": "markdown",
   "metadata": {},
   "source": [
    "### Data"
   ]
  },
  {
   "cell_type": "code",
   "execution_count": null,
   "metadata": {},
   "outputs": [],
   "source": [
    "# load GHS UCD database\n",
    "ghs_full_df = gpd.read_file(\"GHS/GHS_STAT_UCDB2015MT_GLOBE_R2019A_V1_2.gpkg\")"
   ]
  },
  {
   "cell_type": "code",
   "execution_count": null,
   "metadata": {},
   "outputs": [],
   "source": [
    "# load city dataset\n",
    "df_cities = pd.read_csv('GHS/world_cities.csv')"
   ]
  },
  {
   "cell_type": "markdown",
   "metadata": {},
   "source": [
    "## OSMnx Function"
   ]
  },
  {
   "cell_type": "code",
   "execution_count": null,
   "metadata": {},
   "outputs": [],
   "source": [
    "def get_cities_osmnx(df:pd.DataFrame, ghs_df) -> pd.DataFrame:\n",
    "    '''\n",
    "    This function returns the GHS DataFrame with 8 urban spatial indicators for all urban centres.\n",
    "    '''\n",
    "\n",
    "    df[\"street_orientation_entropy\"] = np.nan\n",
    "    df[\"orientation_order_indicator\"] = np.nan\n",
    "    df[\"weighted_street_orientation_entropy\"] = np.nan\n",
    "\n",
    "    entropy_bins = 36\n",
    "\n",
    "    counter = 1\n",
    "    # go through all urban centres in dataset\n",
    "    for index, row in df.iterrows():\n",
    "        # reload package for every loop due to errors\n",
    "        from scipy import stats\n",
    "\n",
    "        # extract city and country \n",
    "        city = str(row['UC_NM_MN'])\n",
    "        country = str(row['XC_NM_LST'])\n",
    "        print(f\"Currently we are calculating city number {counter}, {city}\")\n",
    "\n",
    "        try:\n",
    "            # get spatial boundary of relevant city form GHS dataframe\n",
    "            geom = ghs_df[(ghs_df['UC_NM_MN'] == city) & (ghs_df['XC_NM_LST'] == country)]['geometry']\n",
    "            # get street network of city\n",
    "            G = ox.graph_from_polygon(geom.unary_union, network_type='drive')\n",
    "            # plot street network of city\n",
    "            fig, ax = ox.plot_graph(G)\n",
    "\n",
    "            # calculate area of street network\n",
    "            G_proj = ox.project_graph(G)\n",
    "            nodes_proj = ox.graph_to_gdfs(G_proj, edges=False)\n",
    "            graph_area_m = nodes_proj.unary_union.convex_hull.area\n",
    "\n",
    "            # get edge's bearings of street network\n",
    "            Gu = ox.add_edge_bearings(ox.get_undirected(G))\n",
    "            # calculate orientation entropy\n",
    "            orientation_entropy = ox.bearing.orientation_entropy(Gu)\n",
    "            # calculate weighted orientation entropy\n",
    "            weighted_orientation_entropy = ox.bearing.orientation_entropy(Gu, weight='length')\n",
    "\n",
    "            # calculate orientation order with 36 bins \n",
    "            perfect_grid = [1] * 4 + [0] * (entropy_bins - 4)\n",
    "            min_entropy = stats.entropy(perfect_grid)\n",
    "            max_entropy = np.log(entropy_bins)    \n",
    "            orientation_order = 1 - ((orientation_entropy - min_entropy) / (max_entropy - min_entropy)) ** 2\n",
    "\n",
    "            # get basic statistics of street network\n",
    "            stats = ox.basic_stats(G_proj, area=graph_area_m, clean_int_tol=True)\n",
    "            # get other five street network indicators\n",
    "            median_street_length = stats['street_length_avg']\n",
    "            average_circuity = stats['circuity_avg']\n",
    "            average_node_degree = stats['k_avg']\n",
    "            proportion_nodes_dead_ends = stats['streets_per_node_proportions'][1]\n",
    "            proportion_nodes_four_intersects = stats['streets_per_node_proportions'][4]\n",
    "\n",
    "            # add indicators to city dataframe\n",
    "            df.at[index, \"orientation_order_indicator\"] = orientation_order\n",
    "            df.at[index, \"street_orientation_entropy\"] = orientation_entropy\n",
    "            df.at[index, \"weighted_street_orientation_entropy\"] = weighted_orientation_entropy\n",
    "            df.at[index, \"median_street_segment_length\"] = median_street_length\n",
    "            df.at[index, \"average_circuity\"] = average_circuity\n",
    "            df.at[index, \"average_node_degree\"] = average_node_degree\n",
    "            df.at[index, \"proportion_nodes_dead_ends\"] = proportion_nodes_dead_ends\n",
    "            df.at[index, \"proportion_nodes_fourway_intersections\"] = proportion_nodes_four_intersects\n",
    "\n",
    "            counter +=1\n",
    "            \n",
    "        except:\n",
    "            # if street network not accessible in OSM, go to following city\n",
    "            row[\"street_orientation_entropy\"] = 0\n",
    "            row[\"orientation_order_indicator\"] = 0\n",
    "            row[\"weighted_street_orientation_entropy\"] = 0\n",
    "            print(f\"We have failed to make the calculations for {city}\")\n",
    "\n",
    "    return df"
   ]
  },
  {
   "cell_type": "markdown",
   "metadata": {},
   "source": [
    "### Getting Data"
   ]
  },
  {
   "cell_type": "code",
   "execution_count": null,
   "metadata": {},
   "outputs": [],
   "source": [
    "# get street network indicators of cities in city dataset\n",
    "# WATCH OUT!!! FOR ALL 80 CITIES THIS CAN TAKE ROUGHLY 5 a 6 HOURS!!!\n",
    "df_cities = get_cities_osmnx(df_cities, ghs_full_df)"
   ]
  }
 ],
 "metadata": {
  "kernelspec": {
   "display_name": ".venv",
   "language": "python",
   "name": "python3"
  },
  "language_info": {
   "name": "python",
   "version": "3.11.6"
  }
 },
 "nbformat": 4,
 "nbformat_minor": 2
}
